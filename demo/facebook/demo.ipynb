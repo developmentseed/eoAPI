{
 "cells": [
  {
   "cell_type": "code",
   "execution_count": null,
   "source": [
    "import json\n",
    "import requests\n",
    "from folium import Map, TileLayer, GeoJson\n",
    "\n",
    "endpoint = \"\""
   ],
   "outputs": [],
   "metadata": {}
  },
  {
   "cell_type": "markdown",
   "source": [
    "### Create Mosaic for the whole collection"
   ],
   "metadata": {}
  },
  {
   "cell_type": "code",
   "execution_count": null,
   "source": [
    "# create Mosaic\n",
    "body = {\n",
    "    \"collections\": [\"facebook-population-density\"],\n",
    "}\n",
    "\n",
    "r = requests.post(\n",
    "    f\"{endpoint}/create\",\n",
    "    json=body,\n",
    "    params={\n",
    "        # Info to add to the tilejson response\n",
    "        \"minzoom\": 4,\n",
    "        \"maxzoom\": 12,\n",
    "        # query parameter to add to the tile URL\n",
    "        \"assets\": \"cog\",\n",
    "        \"rescale\": \"0,100\",\n",
    "        \"colormap_name\": \"viridis\",\n",
    "    }\n",
    ").json()\n",
    "print(r)"
   ],
   "outputs": [],
   "metadata": {}
  },
  {
   "cell_type": "code",
   "execution_count": null,
   "source": [
    "m = Map(\n",
    "    location=(0, 0),\n",
    "    zoom_start=5\n",
    ")\n",
    "\n",
    "aod_layer = TileLayer(\n",
    "    tiles=r[\"tiles\"][0],\n",
    "    attr=\"Mosaic\",\n",
    "    min_zoom=4,\n",
    "    max_zoom=12,\n",
    "    max_native_zoom=12,    \n",
    ")\n",
    "aod_layer.add_to(m)\n",
    "m"
   ],
   "outputs": [],
   "metadata": {}
  },
  {
   "cell_type": "code",
   "execution_count": null,
   "source": [],
   "outputs": [],
   "metadata": {}
  }
 ],
 "metadata": {
  "interpreter": {
   "hash": "e0a12c78cd70db9ff05ed68287a27ffcdd32788e19bdb884235a47fc6f52d8ad"
  },
  "kernelspec": {
   "name": "python3",
   "display_name": "Python 3.8.2 64-bit ('py38': venv)"
  },
  "language_info": {
   "codemirror_mode": {
    "name": "ipython",
    "version": 3
   },
   "file_extension": ".py",
   "mimetype": "text/x-python",
   "name": "python",
   "nbconvert_exporter": "python",
   "pygments_lexer": "ipython3",
   "version": "3.8.2"
  }
 },
 "nbformat": 4,
 "nbformat_minor": 4
}